{
 "cells": [
  {
   "cell_type": "code",
   "execution_count": 3,
   "metadata": {
    "collapsed": true
   },
   "outputs": [],
   "source": [
    "vec1 = [1, 1, 9, 13, 3, 7, 2, 5, 1, 6, 7, 1, 2, 4, 1, 2, 1, 0]\n",
    "vec2 = [8, 10, 3, 1, 5, 10, 5, 3, 0, 0, 5, 2, 0, 1, 1, 0, 0, 0]"
   ]
  },
  {
   "cell_type": "code",
   "execution_count": 20,
   "metadata": {
    "collapsed": true
   },
   "outputs": [],
   "source": [
    "domain = [(0, 17),\n",
    " (0, 16),\n",
    " (0, 15),\n",
    " (0, 14),\n",
    " (0, 13),\n",
    " (0, 12),\n",
    " (0, 11),\n",
    " (0, 10),\n",
    " (0, 9),\n",
    " (0, 8),\n",
    " (0, 7),\n",
    " (0, 6),\n",
    " (0, 5),\n",
    " (0, 4),\n",
    " (0, 3),\n",
    " (0, 2),\n",
    " (0, 1),\n",
    " (0, 0)]"
   ]
  },
  {
   "cell_type": "code",
   "execution_count": 9,
   "metadata": {
    "collapsed": true
   },
   "outputs": [],
   "source": [
    "#위의 2개의 유전자와 domain이 정의가 되어 있다. 이것을 이용하여 교차연산(교배)과 변이연산(돌연변이)을 하려고 한다. \n",
    "#관련된 함수를 만들어 보고 2개를 (교배+변이)하여 해를 10개를 만들어 보시오. \n",
    "#변이는 +1 또는 -1를 하세요"
   ]
  },
  {
   "cell_type": "code",
   "execution_count": 7,
   "metadata": {
    "collapsed": true
   },
   "outputs": [],
   "source": [
    "# 교차연산\n",
    "import random\n",
    "def crossover(r1,r2):\n",
    "    i=random.randint(1,len(vec1)-1)\n",
    "    return r1[0:i]+r2[i:]"
   ]
  },
  {
   "cell_type": "code",
   "execution_count": 17,
   "metadata": {
    "collapsed": false
   },
   "outputs": [
    {
     "data": {
      "text/plain": [
       "[1, 1, 9, 1, 5, 10, 5, 3, 0, 0, 5, 2, 0, 1, 1, 0, 0, 0]"
      ]
     },
     "execution_count": 17,
     "metadata": {},
     "output_type": "execute_result"
    }
   ],
   "source": [
    "vec3 = crossover(vec1 , vec2) \n",
    "vec3"
   ]
  },
  {
   "cell_type": "code",
   "execution_count": 10,
   "metadata": {
    "collapsed": true
   },
   "outputs": [],
   "source": [
    "# 변이연산 \n",
    "step = 1\n",
    "def mutate(vec):\n",
    "    i=random.randint(0,len(vec1)-1)\n",
    "    \n",
    "    if random.random()<0.5 and vec[i]-step>domain[i][0]:\n",
    "        return vec[0:i]+[vec[i]-step]+vec[i+1:] \n",
    "    elif vec[i]+step<domain[i][1]:\n",
    "        return vec[0:i]+[vec[i]+step]+vec[i+1:]\n",
    "    else:\n",
    "        return vec"
   ]
  },
  {
   "cell_type": "code",
   "execution_count": 21,
   "metadata": {
    "collapsed": false
   },
   "outputs": [
    {
     "data": {
      "text/plain": [
       "[2, 1, 9, 1, 5, 10, 5, 3, 0, 0, 5, 2, 0, 1, 1, 0, 0, 0]"
      ]
     },
     "execution_count": 21,
     "metadata": {},
     "output_type": "execute_result"
    }
   ],
   "source": [
    "mutate(vec3) "
   ]
  },
  {
   "cell_type": "code",
   "execution_count": 26,
   "metadata": {
    "collapsed": false
   },
   "outputs": [
    {
     "name": "stdout",
     "output_type": "stream",
     "text": [
      "1 [1, 1, 9, 13, 3, 10, 5, 3, 0, 0, 5, 2, 0, 1, 1, 0, 0, 0] [1, 1, 9, 13, 3, 10, 5, 3, 0, 1, 5, 2, 0, 1, 1, 0, 0, 0]\n",
      "2 [1, 1, 9, 13, 3, 7, 2, 5, 1, 6, 7, 2, 0, 1, 1, 0, 0, 0] [1, 1, 9, 13, 3, 7, 2, 5, 1, 7, 7, 2, 0, 1, 1, 0, 0, 0]\n",
      "3 [1, 1, 9, 13, 3, 10, 5, 3, 0, 0, 5, 2, 0, 1, 1, 0, 0, 0] [1, 1, 9, 13, 3, 10, 5, 3, 1, 0, 5, 2, 0, 1, 1, 0, 0, 0]\n",
      "4 [1, 1, 9, 13, 3, 10, 5, 3, 0, 0, 5, 2, 0, 1, 1, 0, 0, 0] [1, 1, 9, 13, 3, 10, 5, 3, 0, 0, 5, 3, 0, 1, 1, 0, 0, 0]\n",
      "5 [1, 1, 9, 13, 3, 7, 2, 5, 1, 6, 7, 1, 2, 1, 1, 0, 0, 0] [1, 1, 9, 13, 3, 7, 2, 5, 1, 6, 7, 1, 2, 1, 1, 0, 0, 0]\n",
      "6 [1, 10, 3, 1, 5, 10, 5, 3, 0, 0, 5, 2, 0, 1, 1, 0, 0, 0] [1, 10, 3, 1, 5, 10, 5, 3, 0, 0, 5, 2, 0, 1, 1, 0, 0, 0]\n",
      "7 [1, 1, 9, 13, 3, 7, 2, 5, 0, 0, 5, 2, 0, 1, 1, 0, 0, 0] [1, 1, 9, 13, 3, 7, 2, 5, 0, 0, 5, 2, 1, 1, 1, 0, 0, 0]\n",
      "8 [1, 10, 3, 1, 5, 10, 5, 3, 0, 0, 5, 2, 0, 1, 1, 0, 0, 0] [1, 10, 3, 1, 5, 10, 5, 3, 0, 0, 5, 2, 0, 1, 2, 0, 0, 0]\n",
      "9 [1, 1, 9, 13, 3, 7, 2, 5, 1, 6, 7, 1, 2, 4, 1, 2, 1, 0] [1, 1, 9, 13, 3, 7, 2, 5, 1, 6, 7, 2, 2, 4, 1, 2, 1, 0]\n",
      "10 [1, 1, 9, 13, 3, 7, 2, 5, 1, 6, 5, 2, 0, 1, 1, 0, 0, 0] [1, 2, 9, 13, 3, 7, 2, 5, 1, 6, 5, 2, 0, 1, 1, 0, 0, 0]\n"
     ]
    }
   ],
   "source": [
    "#교차와 변이를 이용하여 해를 10개만든다. \n",
    "for i in range(0,10):\n",
    "    vec3 = crossover(vec1 , vec2) \n",
    "    vec4 = mutate(vec3) \n",
    "    print(i+1 , vec3 , vec4) "
   ]
  },
  {
   "cell_type": "code",
   "execution_count": null,
   "metadata": {
    "collapsed": true
   },
   "outputs": [],
   "source": []
  }
 ],
 "metadata": {
  "anaconda-cloud": {},
  "kernelspec": {
   "display_name": "Python [default]",
   "language": "python",
   "name": "python3"
  },
  "language_info": {
   "codemirror_mode": {
    "name": "ipython",
    "version": 3
   },
   "file_extension": ".py",
   "mimetype": "text/x-python",
   "name": "python",
   "nbconvert_exporter": "python",
   "pygments_lexer": "ipython3",
   "version": "3.5.2"
  }
 },
 "nbformat": 4,
 "nbformat_minor": 1
}
