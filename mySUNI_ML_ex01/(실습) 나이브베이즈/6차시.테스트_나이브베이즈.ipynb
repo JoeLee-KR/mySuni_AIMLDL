{
 "cells": [
  {
   "cell_type": "code",
   "execution_count": 5,
   "metadata": {
    "collapsed": false
   },
   "outputs": [],
   "source": [
    "import numpy as np\n",
    "\n",
    "X = np.random.randint(5, size=(6, 100))\n",
    "y = np.array([1, 2, 3, 4, 5, 6])"
   ]
  },
  {
   "cell_type": "code",
   "execution_count": 3,
   "metadata": {
    "collapsed": false
   },
   "outputs": [
    {
     "data": {
      "text/plain": [
       "array([[0, 0, 4, 0, 4, 0, 2, 0, 2, 2, 2, 3, 1, 2, 0, 0, 1, 3, 4, 4, 0, 0,\n",
       "        0, 4, 2, 4, 3, 3, 1, 0, 3, 0, 3, 2, 0, 4, 2, 0, 3, 1, 2, 3, 4, 2,\n",
       "        2, 0, 4, 3, 2, 3, 4, 4, 4, 0, 4, 2, 3, 2, 3, 0, 4, 3, 1, 3, 4, 0,\n",
       "        3, 4, 0, 4, 4, 2, 4, 0, 1, 0, 1, 4, 4, 2, 1, 1, 3, 3, 4, 3, 0, 0,\n",
       "        2, 1, 0, 0, 0, 1, 4, 2, 4, 2, 3, 1],\n",
       "       [3, 4, 3, 3, 3, 1, 3, 4, 3, 2, 4, 0, 1, 3, 0, 3, 3, 0, 1, 2, 3, 4,\n",
       "        0, 1, 1, 2, 0, 2, 1, 1, 0, 4, 1, 4, 0, 0, 3, 4, 0, 1, 4, 2, 1, 0,\n",
       "        2, 3, 0, 3, 2, 0, 2, 4, 2, 1, 2, 3, 0, 4, 3, 2, 0, 4, 1, 2, 0, 1,\n",
       "        2, 1, 4, 3, 2, 1, 4, 0, 4, 3, 4, 2, 3, 3, 0, 0, 0, 1, 2, 0, 1, 0,\n",
       "        2, 2, 2, 0, 2, 2, 4, 0, 2, 1, 3, 2],\n",
       "       [2, 2, 1, 3, 3, 3, 2, 4, 4, 3, 0, 0, 4, 1, 3, 2, 3, 1, 4, 1, 3, 1,\n",
       "        2, 3, 3, 2, 1, 0, 2, 4, 2, 0, 4, 4, 4, 2, 2, 0, 1, 1, 3, 0, 3, 4,\n",
       "        3, 2, 4, 2, 3, 4, 0, 3, 3, 4, 1, 2, 3, 1, 2, 1, 2, 0, 4, 3, 0, 3,\n",
       "        0, 3, 1, 0, 3, 2, 4, 0, 1, 2, 2, 1, 3, 3, 3, 1, 0, 4, 0, 1, 0, 3,\n",
       "        3, 0, 2, 4, 4, 3, 4, 4, 1, 2, 3, 2],\n",
       "       [4, 4, 2, 0, 1, 1, 1, 3, 0, 4, 0, 3, 4, 3, 1, 4, 2, 4, 4, 0, 3, 4,\n",
       "        3, 1, 2, 2, 3, 3, 4, 4, 4, 4, 1, 2, 3, 1, 1, 0, 1, 1, 3, 3, 1, 1,\n",
       "        0, 4, 2, 0, 2, 0, 0, 0, 0, 3, 2, 2, 2, 3, 0, 0, 2, 1, 2, 3, 3, 0,\n",
       "        2, 3, 1, 1, 1, 1, 3, 0, 1, 4, 3, 3, 1, 0, 2, 3, 3, 4, 3, 3, 2, 3,\n",
       "        0, 0, 0, 0, 2, 2, 1, 0, 2, 0, 3, 4],\n",
       "       [4, 1, 3, 4, 3, 2, 4, 3, 3, 0, 3, 2, 3, 2, 1, 2, 4, 2, 0, 4, 4, 1,\n",
       "        2, 3, 1, 4, 3, 0, 2, 0, 0, 0, 0, 4, 3, 1, 4, 3, 4, 1, 0, 4, 2, 2,\n",
       "        3, 3, 0, 4, 2, 1, 0, 0, 2, 3, 1, 0, 0, 2, 2, 4, 4, 3, 2, 2, 1, 4,\n",
       "        1, 2, 1, 0, 1, 1, 1, 0, 3, 0, 2, 4, 0, 4, 4, 4, 4, 3, 1, 0, 0, 1,\n",
       "        4, 1, 1, 0, 4, 1, 2, 0, 3, 4, 3, 4],\n",
       "       [3, 2, 4, 1, 3, 1, 4, 3, 2, 4, 4, 4, 2, 1, 3, 2, 3, 4, 0, 2, 4, 3,\n",
       "        0, 3, 2, 1, 0, 3, 3, 0, 3, 0, 1, 0, 4, 0, 1, 3, 1, 1, 3, 3, 2, 4,\n",
       "        0, 3, 1, 2, 4, 1, 2, 3, 4, 3, 3, 0, 0, 0, 0, 0, 2, 3, 2, 3, 0, 1,\n",
       "        3, 4, 4, 0, 2, 3, 1, 0, 0, 4, 3, 4, 1, 0, 4, 3, 1, 4, 3, 2, 3, 2,\n",
       "        3, 3, 1, 4, 3, 3, 2, 4, 4, 0, 2, 2]])"
      ]
     },
     "execution_count": 3,
     "metadata": {},
     "output_type": "execute_result"
    }
   ],
   "source": [
    "X"
   ]
  },
  {
   "cell_type": "code",
   "execution_count": 4,
   "metadata": {
    "collapsed": false
   },
   "outputs": [
    {
     "data": {
      "text/plain": [
       "array([1, 2, 3, 4, 5, 6])"
      ]
     },
     "execution_count": 4,
     "metadata": {},
     "output_type": "execute_result"
    }
   ],
   "source": [
    "y"
   ]
  },
  {
   "cell_type": "code",
   "execution_count": 27,
   "metadata": {
    "collapsed": true
   },
   "outputs": [],
   "source": [
    "#나이브 베이즈 모델을 만들고 위의 데이터를 훈련데이터로 삼아서 훈련하여 봅시다.  "
   ]
  },
  {
   "cell_type": "code",
   "execution_count": 28,
   "metadata": {
    "collapsed": false
   },
   "outputs": [
    {
     "data": {
      "text/plain": [
       "MultinomialNB(alpha=1.0, class_prior=None, fit_prior=True)"
      ]
     },
     "execution_count": 28,
     "metadata": {},
     "output_type": "execute_result"
    }
   ],
   "source": [
    "from sklearn.naive_bayes import MultinomialNB\n",
    "clf = MultinomialNB()\n",
    "clf.fit(X, y)"
   ]
  },
  {
   "cell_type": "code",
   "execution_count": 29,
   "metadata": {
    "collapsed": true
   },
   "outputs": [],
   "source": [
    "#4번째 데이터의 class를 예측하여 봅시다. "
   ]
  },
  {
   "cell_type": "code",
   "execution_count": 33,
   "metadata": {
    "collapsed": false
   },
   "outputs": [
    {
     "name": "stdout",
     "output_type": "stream",
     "text": [
      "[4]\n"
     ]
    }
   ],
   "source": [
    "print(clf.predict(X[3].reshape(1,100))) "
   ]
  },
  {
   "cell_type": "code",
   "execution_count": 34,
   "metadata": {
    "collapsed": false
   },
   "outputs": [],
   "source": [
    "#전체 훈련데이터를 예측하여 봅시다. "
   ]
  },
  {
   "cell_type": "code",
   "execution_count": 37,
   "metadata": {
    "collapsed": false
   },
   "outputs": [
    {
     "data": {
      "text/plain": [
       "array([1, 2, 3, 4, 5, 6])"
      ]
     },
     "execution_count": 37,
     "metadata": {},
     "output_type": "execute_result"
    }
   ],
   "source": [
    "clf.predict(X) "
   ]
  },
  {
   "cell_type": "code",
   "execution_count": null,
   "metadata": {
    "collapsed": true
   },
   "outputs": [],
   "source": []
  },
  {
   "cell_type": "code",
   "execution_count": null,
   "metadata": {
    "collapsed": true
   },
   "outputs": [],
   "source": []
  }
 ],
 "metadata": {
  "kernelspec": {
   "display_name": "Python [default]",
   "language": "python",
   "name": "python3"
  },
  "language_info": {
   "codemirror_mode": {
    "name": "ipython",
    "version": 3
   },
   "file_extension": ".py",
   "mimetype": "text/x-python",
   "name": "python",
   "nbconvert_exporter": "python",
   "pygments_lexer": "ipython3",
   "version": "3.5.2"
  }
 },
 "nbformat": 4,
 "nbformat_minor": 1
}
