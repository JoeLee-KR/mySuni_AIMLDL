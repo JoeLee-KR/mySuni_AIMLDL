{
 "cells": [
  {
   "cell_type": "code",
   "execution_count": 1,
   "metadata": {
    "collapsed": true
   },
   "outputs": [],
   "source": [
    "import codecs\n",
    "from konlpy.tag import Twitter"
   ]
  },
  {
   "cell_type": "code",
   "execution_count": 4,
   "metadata": {
    "collapsed": false
   },
   "outputs": [],
   "source": [
    "twitter = Twitter()\n",
    "line = '오늘은 날씨가 맑습니다. 하지만 내일쯤에는 비가 올지도 모르지요. 이 정도 날씨라면 오늘 테니스를 쳐도 좋지 않을까요?'"
   ]
  },
  {
   "cell_type": "code",
   "execution_count": 6,
   "metadata": {
    "collapsed": true
   },
   "outputs": [],
   "source": [
    "#위의 문장을 형태소분석을 하여 보세요. 어떻게 하면 될까요?"
   ]
  },
  {
   "cell_type": "code",
   "execution_count": 7,
   "metadata": {
    "collapsed": false
   },
   "outputs": [
    {
     "data": {
      "text/plain": [
       "[('오늘', 'Noun'),\n",
       " ('은', 'Josa'),\n",
       " ('날씨', 'Noun'),\n",
       " ('가', 'Josa'),\n",
       " ('맑', 'Adjective'),\n",
       " ('습니다', 'Eomi'),\n",
       " ('.', 'Punctuation'),\n",
       " ('하지만', 'Conjunction'),\n",
       " ('내일', 'Noun'),\n",
       " ('쯤', 'Suffix'),\n",
       " ('에는', 'Josa'),\n",
       " ('비', 'Noun'),\n",
       " ('가', 'Josa'),\n",
       " ('올', 'NounPrefix'),\n",
       " ('지도', 'Noun'),\n",
       " ('모르', 'Verb'),\n",
       " ('지요', 'Eomi'),\n",
       " ('.', 'Punctuation'),\n",
       " ('이', 'Noun'),\n",
       " ('정도', 'Noun'),\n",
       " ('날씨', 'Noun'),\n",
       " ('라면', 'Noun'),\n",
       " ('오늘', 'Noun'),\n",
       " ('테니스', 'Noun'),\n",
       " ('를', 'Josa'),\n",
       " ('쳐', 'Verb'),\n",
       " ('도', 'Eomi'),\n",
       " ('좋', 'Adjective'),\n",
       " ('지', 'Eomi'),\n",
       " ('않', 'Verb'),\n",
       " ('을까요', 'Eomi'),\n",
       " ('?', 'Punctuation')]"
      ]
     },
     "execution_count": 7,
     "metadata": {},
     "output_type": "execute_result"
    }
   ],
   "source": [
    "malist = twitter.pos(line)\n",
    "malist"
   ]
  },
  {
   "cell_type": "code",
   "execution_count": 22,
   "metadata": {
    "collapsed": true
   },
   "outputs": [],
   "source": [
    "#이중에서 2글자 이상의 명사만 골라보세요 \n",
    "#어떻게 코딩을 하면 될까요? "
   ]
  },
  {
   "cell_type": "code",
   "execution_count": 23,
   "metadata": {
    "collapsed": false
   },
   "outputs": [],
   "source": [
    "words_all = []\n",
    "for word in malist:\n",
    "    # 명사만 걸러내기 \n",
    "    if word[1] in ['Noun']:\n",
    "        if len(word[0]) < 2:\n",
    "            continue\n",
    "        else:\n",
    "            words_all.append(word[0])"
   ]
  },
  {
   "cell_type": "code",
   "execution_count": 24,
   "metadata": {
    "collapsed": false
   },
   "outputs": [
    {
     "data": {
      "text/plain": [
       "['오늘', '날씨', '내일', '지도', '정도', '날씨', '라면', '오늘', '테니스']"
      ]
     },
     "execution_count": 24,
     "metadata": {},
     "output_type": "execute_result"
    }
   ],
   "source": [
    "words_all"
   ]
  },
  {
   "cell_type": "code",
   "execution_count": 25,
   "metadata": {
    "collapsed": true
   },
   "outputs": [],
   "source": [
    "#이중에서 특수문자만 제외시켜보세요 "
   ]
  },
  {
   "cell_type": "code",
   "execution_count": 26,
   "metadata": {
    "collapsed": true
   },
   "outputs": [],
   "source": [
    "words_all = []\n",
    "for word in malist:\n",
    "    # 특수문자 제외하기 \n",
    "    if word[1] not in ['Punctuation']:\n",
    "            words_all.append(word[0])"
   ]
  },
  {
   "cell_type": "code",
   "execution_count": 27,
   "metadata": {
    "collapsed": false
   },
   "outputs": [
    {
     "data": {
      "text/plain": [
       "['오늘',\n",
       " '은',\n",
       " '날씨',\n",
       " '가',\n",
       " '맑',\n",
       " '습니다',\n",
       " '하지만',\n",
       " '내일',\n",
       " '쯤',\n",
       " '에는',\n",
       " '비',\n",
       " '가',\n",
       " '올',\n",
       " '지도',\n",
       " '모르',\n",
       " '지요',\n",
       " '이',\n",
       " '정도',\n",
       " '날씨',\n",
       " '라면',\n",
       " '오늘',\n",
       " '테니스',\n",
       " '를',\n",
       " '쳐',\n",
       " '도',\n",
       " '좋',\n",
       " '지',\n",
       " '않',\n",
       " '을까요']"
      ]
     },
     "execution_count": 27,
     "metadata": {},
     "output_type": "execute_result"
    }
   ],
   "source": [
    "words_all"
   ]
  },
  {
   "cell_type": "code",
   "execution_count": null,
   "metadata": {
    "collapsed": true
   },
   "outputs": [],
   "source": []
  }
 ],
 "metadata": {
  "kernelspec": {
   "display_name": "Python [default]",
   "language": "python",
   "name": "python3"
  },
  "language_info": {
   "codemirror_mode": {
    "name": "ipython",
    "version": 3
   },
   "file_extension": ".py",
   "mimetype": "text/x-python",
   "name": "python",
   "nbconvert_exporter": "python",
   "pygments_lexer": "ipython3",
   "version": "3.5.2"
  }
 },
 "nbformat": 4,
 "nbformat_minor": 1
}
